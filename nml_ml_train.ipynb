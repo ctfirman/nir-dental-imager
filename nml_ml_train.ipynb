{
 "cells": [
  {
   "cell_type": "code",
   "execution_count": 1,
   "metadata": {},
   "outputs": [],
   "source": [
    "import numpy as np\n",
    "import matplotlib.pyplot as plt\n",
    "import tensorflow as tf\n",
    "import tensorflow.keras as keras\n",
    "# make it easier to understand by importing the required libraries within keras\n",
    "from tensorflow.keras.layers import Dense, Flatten\n",
    "from sklearn.model_selection import KFold\n",
    "%matplotlib inline"
   ]
  },
  {
   "cell_type": "code",
   "execution_count": 2,
   "metadata": {},
   "outputs": [
    {
     "data": {
      "text/plain": [
       "[]"
      ]
     },
     "execution_count": 2,
     "metadata": {},
     "output_type": "execute_result"
    }
   ],
   "source": [
    "tf.config.list_physical_devices('GPU')"
   ]
  },
  {
   "cell_type": "code",
   "execution_count": 2,
   "metadata": {},
   "outputs": [],
   "source": [
    "# from utils.database import nmlDB\n",
    "# db = nmlDB(\"nml.db\")\n",
    "\n",
    "# db.get_ml_data_len()"
   ]
  },
  {
   "cell_type": "code",
   "execution_count": 3,
   "metadata": {},
   "outputs": [
    {
     "name": "stdout",
     "output_type": "stream",
     "text": [
      "data shape = (20000, 105625)\n",
      "data example = [[ 76  76  76 ...  69  58  54]\n",
      " [ 90  62  48 ... 105 108 104]\n",
      " [123 120 127 ... 108 101 101]\n",
      " ...\n",
      " [103 110 127 ...  70  73  75]\n",
      " [ 54  57  59 ...  47  48  43]\n",
      " [149 142 132 ... 101 100 100]]\n",
      "classifiers shape = (20000,)\n",
      "classifiers example = [0 1 0 ... 1 0 1]\n",
      "Occurances = {0: 10043, 1: 9957}\n"
     ]
    }
   ],
   "source": [
    "data = np.load(\"test_data_v2.npy\")\n",
    "classifiers = np.load(\"test_classifiers_v2.npy\")\n",
    "\n",
    "# all_classifier_list = []\n",
    "# all_data_list = []\n",
    "\n",
    "# all_crack = db.get_all_ml_data()\n",
    "# np.random.shuffle(all_crack)\n",
    "\n",
    "# for entry in all_crack[0:100000]:\n",
    "#     after_img = np.frombuffer(entry.img, dtype=np.uint8)  # type:ignore\n",
    "#     all_classifier_list.append(entry.classifier)\n",
    "#     all_data_list.append(after_img)\n",
    "\n",
    "# # data_class = list(zip(all_data_list, all_classifier_list))\n",
    "# # # print(data_class)\n",
    "# # data, classifiers = zip(*data_class)\n",
    "# data = np.array(all_data_list)\n",
    "# classifiers = np.array(all_classifier_list)\n",
    "# # print(data)\n",
    "# # print(classifiers)\n",
    "\n",
    "print(f\"data shape = {data.shape}\")\n",
    "print(f\"data example = {data}\")\n",
    "\n",
    "print(f\"classifiers shape = {classifiers.shape}\")\n",
    "print(f\"classifiers example = {classifiers}\")\n",
    "\n",
    "unique, counts = np.unique(classifiers, return_counts=True)\n",
    "print(f\"Occurances = {dict(zip(unique, counts))}\")"
   ]
  },
  {
   "cell_type": "code",
   "execution_count": null,
   "metadata": {},
   "outputs": [],
   "source": [
    "# data = data\n",
    "# classifiers = classifiers"
   ]
  },
  {
   "cell_type": "code",
   "execution_count": 4,
   "metadata": {},
   "outputs": [
    {
     "name": "stdout",
     "output_type": "stream",
     "text": [
      "(20000, 2)\n",
      "[[1. 0.]\n",
      " [0. 1.]\n",
      " [1. 0.]]\n",
      "Old labels: [0 1 0]\n"
     ]
    },
    {
     "ename": "MemoryError",
     "evalue": "Unable to allocate 15.7 GiB for an array with shape (20000, 105625) and data type float64",
     "output_type": "error",
     "traceback": [
      "\u001b[1;31m---------------------------------------------------------------------------\u001b[0m",
      "\u001b[1;31mMemoryError\u001b[0m                               Traceback (most recent call last)",
      "Cell \u001b[1;32mIn[4], line 12\u001b[0m\n\u001b[0;32m      9\u001b[0m \u001b[39mprint\u001b[39m(\u001b[39m'\u001b[39m\u001b[39mOld labels: \u001b[39m\u001b[39m{}\u001b[39;00m\u001b[39m'\u001b[39m\u001b[39m.\u001b[39mformat(np\u001b[39m.\u001b[39margmax(y_train[:\u001b[39m3\u001b[39m], axis\u001b[39m=\u001b[39m\u001b[39m1\u001b[39m)))\n\u001b[0;32m     11\u001b[0m \u001b[39m# normalize input data\u001b[39;00m\n\u001b[1;32m---> 12\u001b[0m x_train \u001b[39m=\u001b[39m data\u001b[39m.\u001b[39;49mastype(\u001b[39mfloat\u001b[39;49m)\u001b[39m/\u001b[39m\u001b[39m255\u001b[39m\n\u001b[0;32m     13\u001b[0m \u001b[39m# x_train = data\u001b[39;00m\n\u001b[0;32m     14\u001b[0m \u001b[39mprint\u001b[39m(x_train)\n",
      "\u001b[1;31mMemoryError\u001b[0m: Unable to allocate 15.7 GiB for an array with shape (20000, 105625) and data type float64"
     ]
    }
   ],
   "source": [
    "# ONLY RUN ONCE\n",
    "\n",
    "# convert to one hot encoding \n",
    "y_train = np.arange(1)\n",
    "if len(classifiers.shape)==1:\n",
    "    y_train = keras.utils.to_categorical(classifiers, num_classes=2)\n",
    "print(y_train.shape)\n",
    "print(y_train[0:3])\n",
    "print('Old labels: {}'.format(np.argmax(y_train[:3], axis=1)))\n",
    "\n",
    "# normalize input data\n",
    "x_train = data.astype(float)/255\n",
    "# x_train = data\n",
    "print(x_train)\n",
    "\n",
    "# split the data into training (9000) and testing (1000)\n",
    "x_train_full = x_train\n",
    "y_train_full = y_train\n",
    "x_train, x_test = np.split(x_train, [18000])\n",
    "y_train, y_test = np.split(y_train, [18000])\n",
    "\n",
    "print(x_train.shape, y_train.shape)\n",
    "print(x_test.shape, y_test.shape)\n",
    "print(x_train_full.shape, y_train_full.shape)"
   ]
  },
  {
   "cell_type": "code",
   "execution_count": 6,
   "metadata": {},
   "outputs": [],
   "source": [
    "def get_optimal_model_V2():\n",
    "\n",
    "    crack_detect_model = keras.models.Sequential()\n",
    "\n",
    "    # Hidden layers\n",
    "    crack_detect_model.add(Dense(64, activation=\"relu\", input_shape = (data.shape[1],)))\n",
    "    crack_detect_model.add(Dense(64, activation=\"relu\"))\n",
    "    crack_detect_model.add(Dense(64, activation=\"relu\"))\n",
    "    crack_detect_model.add(Dense(64, activation=\"relu\"))\n",
    "\n",
    "    # Output layer\n",
    "    crack_detect_model.add(Dense(2, activation=\"softmax\"))\n",
    "\n",
    "    # print(crack_detect_model.summary()) \n",
    "\n",
    "    crack_detect_model.compile(loss='binary_crossentropy', optimizer='adam', metrics=['accuracy'])\n",
    "\n",
    "    return crack_detect_model"
   ]
  },
  {
   "cell_type": "code",
   "execution_count": 7,
   "metadata": {},
   "outputs": [
    {
     "name": "stdout",
     "output_type": "stream",
     "text": [
      "Epoch 1/10\n",
      "7/7 [==============================] - 30s 907ms/step - loss: 3.3989 - accuracy: 0.4980 - val_loss: 1.1014 - val_accuracy: 0.4976\n",
      "Epoch 2/10\n",
      "7/7 [==============================] - 2s 274ms/step - loss: 1.2186 - accuracy: 0.5460 - val_loss: 1.3179 - val_accuracy: 0.4976\n",
      "Epoch 3/10\n",
      "7/7 [==============================] - 2s 361ms/step - loss: 0.9351 - accuracy: 0.5682 - val_loss: 0.6557 - val_accuracy: 0.4989\n",
      "Epoch 4/10\n",
      "7/7 [==============================] - 2s 307ms/step - loss: 0.6678 - accuracy: 0.5883 - val_loss: 0.5586 - val_accuracy: 0.8424\n",
      "Epoch 5/10\n",
      "7/7 [==============================] - 2s 300ms/step - loss: 0.5572 - accuracy: 0.7595 - val_loss: 0.5563 - val_accuracy: 0.7464\n",
      "Epoch 6/10\n",
      "7/7 [==============================] - 2s 292ms/step - loss: 0.4970 - accuracy: 0.8194 - val_loss: 0.4699 - val_accuracy: 0.8198\n",
      "Epoch 7/10\n",
      "7/7 [==============================] - 2s 293ms/step - loss: 0.4537 - accuracy: 0.8370 - val_loss: 0.4059 - val_accuracy: 0.8600\n",
      "Epoch 8/10\n",
      "7/7 [==============================] - 2s 301ms/step - loss: 0.4024 - accuracy: 0.8828 - val_loss: 0.3955 - val_accuracy: 0.8602\n",
      "Epoch 9/10\n",
      "7/7 [==============================] - 2s 308ms/step - loss: 0.3683 - accuracy: 0.8949 - val_loss: 0.3548 - val_accuracy: 0.8658\n",
      "Epoch 10/10\n",
      "7/7 [==============================] - 2s 253ms/step - loss: 0.3347 - accuracy: 0.9082 - val_loss: 0.3046 - val_accuracy: 0.8960\n",
      "<keras.engine.sequential.Sequential object at 0x000001DF4B334580>\n",
      "{'loss': [3.3988826274871826, 1.2186492681503296, 0.9351469278335571, 0.6678121089935303, 0.5572280883789062, 0.49699628353118896, 0.45370882749557495, 0.4024199843406677, 0.3683227002620697, 0.33471235632896423], 'accuracy': [0.49799999594688416, 0.5460000038146973, 0.5682222247123718, 0.5882962942123413, 0.7594814896583557, 0.8194074034690857, 0.8369629383087158, 0.8828148245811462, 0.8948888778686523, 0.9082221984863281], 'val_loss': [1.101418137550354, 1.3178777694702148, 0.6556966304779053, 0.5586039423942566, 0.5562725067138672, 0.4698721170425415, 0.4058816432952881, 0.3954828977584839, 0.35484468936920166, 0.3045586943626404], 'val_accuracy': [0.49755555391311646, 0.49755555391311646, 0.49888888001441956, 0.8424444198608398, 0.7464444637298584, 0.81977778673172, 0.8600000143051147, 0.8602222204208374, 0.8657777905464172, 0.8960000276565552]}\n",
      "None\n",
      "[0, 1, 2, 3, 4, 5, 6, 7, 8, 9]\n",
      "train acc: 90.82 % \n",
      "val acc: 89.60 %\n",
      "63/63 [==============================] - 0s 4ms/step - loss: 0.3016 - accuracy: 0.9015\n",
      "[0.3015937805175781, 0.9014999866485596]\n",
      "Test accuracy: 90.15 %\n"
     ]
    },
    {
     "data": {
      "image/png": "[encoded data removed]",
      "text/plain": [
       "<Figure size 640x480 with 1 Axes>"
      ]
     },
     "metadata": {},
     "output_type": "display_data"
    }
   ],
   "source": [
    "crack_detect_model = get_optimal_model_V2()\n",
    "\n",
    "fitted_model = crack_detect_model.fit(x_train, y_train, epochs=10, batch_size=2000, validation_split=0.25, verbose=1)\n",
    "\n",
    "print(fitted_model.model)\n",
    "print(fitted_model.history)\n",
    "print(fitted_model.validation_data)\n",
    "print(fitted_model.epoch)\n",
    "\n",
    "plt.plot(fitted_model.history['accuracy'])\n",
    "plt.plot(fitted_model.history['val_accuracy'], 'r')\n",
    "plt.legend(['train acc', 'val acc'])\n",
    "print('train acc: %.2f %% \\nval acc: %.2f %%'%(fitted_model.history['accuracy'][-1]*100,fitted_model.history['val_accuracy'][-1]*100))\n",
    "\n",
    "evaluated = crack_detect_model.evaluate(x_test, y_test, verbose=1)\n",
    "print(evaluated)\n",
    "print('Test accuracy: %.2f %%'%(100*evaluated[1]))"
   ]
  },
  {
   "cell_type": "code",
   "execution_count": 8,
   "metadata": {},
   "outputs": [
    {
     "name": "stdout",
     "output_type": "stream",
     "text": [
      "Epoch 1/10\n",
      "8/8 [==============================] - 21s 1s/step - loss: 3.2830 - accuracy: 0.5074 - val_loss: 1.5558 - val_accuracy: 0.4920\n",
      "Epoch 2/10\n",
      "8/8 [==============================] - 2s 262ms/step - loss: 1.3488 - accuracy: 0.4983 - val_loss: 1.0064 - val_accuracy: 0.4992\n",
      "Epoch 3/10\n",
      "8/8 [==============================] - 3s 437ms/step - loss: 0.8931 - accuracy: 0.5018 - val_loss: 0.6502 - val_accuracy: 0.7578\n",
      "Epoch 4/10\n",
      "8/8 [==============================] - 2s 314ms/step - loss: 0.6940 - accuracy: 0.5585 - val_loss: 0.8126 - val_accuracy: 0.8190\n",
      "Epoch 5/10\n",
      "8/8 [==============================] - 2s 327ms/step - loss: 0.6637 - accuracy: 0.6143 - val_loss: 0.5205 - val_accuracy: 0.8812\n",
      "Epoch 6/10\n",
      "8/8 [==============================] - 2s 311ms/step - loss: 0.5144 - accuracy: 0.7749 - val_loss: 0.4849 - val_accuracy: 0.7948\n",
      "Epoch 7/10\n",
      "8/8 [==============================] - 2s 308ms/step - loss: 0.4552 - accuracy: 0.8607 - val_loss: 0.4424 - val_accuracy: 0.8578\n",
      "Epoch 8/10\n",
      "8/8 [==============================] - 2s 320ms/step - loss: 0.4241 - accuracy: 0.8701 - val_loss: 0.4203 - val_accuracy: 0.8574\n",
      "Epoch 9/10\n",
      "8/8 [==============================] - 2s 310ms/step - loss: 0.3988 - accuracy: 0.8935 - val_loss: 0.3599 - val_accuracy: 0.8636\n",
      "Epoch 10/10\n",
      "8/8 [==============================] - 2s 300ms/step - loss: 0.3480 - accuracy: 0.8838 - val_loss: 0.3229 - val_accuracy: 0.9596\n",
      "<keras.engine.sequential.Sequential object at 0x000001DF56AE3A30>\n",
      "{'loss': [3.2830090522766113, 1.3487800359725952, 0.8930760025978088, 0.6939612030982971, 0.6637158393859863, 0.514350950717926, 0.4552188813686371, 0.42408815026283264, 0.39879822731018066, 0.34799662232398987], 'accuracy': [0.5073999762535095, 0.49826666712760925, 0.501800000667572, 0.5584666728973389, 0.6143333315849304, 0.7749333381652832, 0.8606666922569275, 0.8701333403587341, 0.8935333490371704, 0.8838000297546387], 'val_loss': [1.5557745695114136, 1.006375789642334, 0.6502390503883362, 0.8126319646835327, 0.5204932689666748, 0.48489272594451904, 0.44241151213645935, 0.4202994108200073, 0.3599046766757965, 0.322875052690506], 'val_accuracy': [0.492000013589859, 0.4991999864578247, 0.7577999830245972, 0.8190000057220459, 0.8812000155448914, 0.7947999835014343, 0.8578000068664551, 0.8574000000953674, 0.8636000156402588, 0.9595999717712402]}\n",
      "None\n",
      "[0, 1, 2, 3, 4, 5, 6, 7, 8, 9]\n",
      "train acc: 88.38 % \n",
      "val acc: 95.96 %\n",
      "63/63 [==============================] - 0s 4ms/step - loss: 0.3219 - accuracy: 0.9570\n",
      "[0.32191312313079834, 0.9570000171661377]\n",
      "Test accuracy: 95.70 %\n"
     ]
    },
    {
     "data": {
      "image/png": "[encoded data removed]",
      "text/plain": [
       "<Figure size 640x480 with 1 Axes>"
      ]
     },
     "metadata": {},
     "output_type": "display_data"
    }
   ],
   "source": [
    "crack_detect_model_full = get_optimal_model_V2()\n",
    "\n",
    "fitted_model = crack_detect_model_full.fit(x_train_full, y_train_full, epochs=10, batch_size=2000, validation_split=0.25, verbose=1)\n",
    "\n",
    "print(fitted_model.model)\n",
    "print(fitted_model.history)\n",
    "print(fitted_model.validation_data)\n",
    "print(fitted_model.epoch)\n",
    "\n",
    "plt.plot(fitted_model.history['accuracy'])\n",
    "plt.plot(fitted_model.history['val_accuracy'], 'r')\n",
    "plt.legend(['train acc', 'val acc'])\n",
    "print('train acc: %.2f %% \\nval acc: %.2f %%'%(fitted_model.history['accuracy'][-1]*100,fitted_model.history['val_accuracy'][-1]*100))\n",
    "\n",
    "evaluated = crack_detect_model_full.evaluate(x_test, y_test, verbose=1)\n",
    "print(evaluated)\n",
    "print('Test accuracy: %.2f %%'%(100*evaluated[1]))"
   ]
  },
  {
   "cell_type": "code",
   "execution_count": null,
   "metadata": {},
   "outputs": [],
   "source": [
    "# from sklearn.model_selection import KFold\n",
    "\n",
    "# kf = KFold(n_splits=10)\n",
    "\n",
    "# kfold_results = []\n",
    "\n",
    "# for train_index, test_index in kf.split(x_train_full):\n",
    "#   print(\"TRAIN:\", train_index, \"TEST:\", test_index[0])\n",
    "#   x_train, x_test = x_train_full[train_index], x_train_full[test_index]\n",
    "#   y_train, y_test = y_train_full[train_index], y_train_full[test_index]\n",
    "#   crack_detect_model = get_optimal_model_V2()\n",
    "\n",
    "#   fitted_model = crack_detect_model.fit(x_train, y_train, epochs=5, batch_size=2000, validation_split=0.25, verbose=0)\n",
    "#   print('train acc: %.2f %% \\nval acc: %.2f %%'%(fitted_model.history['accuracy'][-1]*100,fitted_model.history['val_accuracy'][-1]*100))\n",
    "\n",
    "#   evaluated = crack_detect_model.evaluate(x_test, y_test, verbose=1)\n",
    "#   print(evaluated)\n",
    "#   kfold_results.append(evaluated)"
   ]
  },
  {
   "cell_type": "code",
   "execution_count": null,
   "metadata": {},
   "outputs": [],
   "source": [
    "kfold_losses = [res[0] for res in kfold_results]\n",
    "kfold_accuracy = [res[1] for res in kfold_results]\n",
    "\n",
    "fig, ax = plt.subplots()\n",
    "fig.patch.set_facecolor(\"white\")\n",
    "lin1 = ax.plot(range(10), kfold_accuracy, label=\"Accuracy\")\n",
    "ax.set_xlabel(\"Iteration\")\n",
    "ax.set_ylabel(\"Accuracy\")\n",
    "\n",
    "ax2 = ax.twinx()\n",
    "lin2 = ax2.plot(range(10), kfold_losses, 'r', label=\"Loss Values\")\n",
    "ax2.set_ylabel(\"Loss Values\")\n",
    "title_str = f\"K-Fold Cross Validation (k={len(kfold_accuracy)})\"\n",
    "ax.set_title(title_str)\n",
    "\n",
    "lins = lin1 + lin2\n",
    "labels = [l.get_label() for l in lins]\n",
    "ax.legend(lins, labels, loc=6)\n",
    "\n",
    "plt.savefig(\"kfold-plot.svg\", format=\"svg\", dpi=1200, transparent=False, facecolor=fig.get_facecolor())"
   ]
  },
  {
   "cell_type": "code",
   "execution_count": null,
   "metadata": {},
   "outputs": [],
   "source": [
    "# Save the model\n",
    "# crack_detect_model_full.save(\"nmlModelV3\")"
   ]
  }
 ],
 "metadata": {
  "kernelspec": {
   "display_name": "venv",
   "language": "python",
   "name": "python3"
  },
  "language_info": {
   "codemirror_mode": {
    "name": "ipython",
    "version": 3
   },
   "file_extension": ".py",
   "mimetype": "text/x-python",
   "name": "python",
   "nbconvert_exporter": "python",
   "pygments_lexer": "ipython3",
   "version": "3.10.10"
  },
  "orig_nbformat": 4
 },
 "nbformat": 4,
 "nbformat_minor": 2
}
